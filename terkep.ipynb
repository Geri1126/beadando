{
 "cells": [
  {
   "cell_type": "code",
   "execution_count": 66,
   "metadata": {},
   "outputs": [],
   "source": [
    "import pandas as pd\n",
    "import plotly.express as px\n",
    "import numpy as np"
   ]
  },
  {
   "cell_type": "code",
   "execution_count": 67,
   "metadata": {},
   "outputs": [],
   "source": [
    "#df-ek beolvasása\n",
    "df = pd.read_csv('csv/Life Expectancy Data.csv')\n",
    "df.columns = df.columns.str.strip()\n",
    "happy_csv = pd.read_csv('csv/2015.csv')\n",
    "growth_trend = pd.read_csv('csv/growth_trend_from_1970.csv')\n",
    "r_df = pd.read_csv('csv/r_squared_from_1990.csv')\n",
    "real_per_cap_df = pd.read_csv('csv/gdp_per_cap_in_2015.csv')"
   ]
  },
  {
   "cell_type": "code",
   "execution_count": 68,
   "metadata": {},
   "outputs": [],
   "source": [
    "#várható élettartam\n",
    "\n",
    "exp_df = df[['Country', 'Year', 'Life expectancy']]\n",
    "exp_df = exp_df[exp_df['Year'] == 2015]\n",
    "exp_df.drop(columns='Year', inplace=True)\n",
    "exp_df.reset_index(drop = True, inplace=True)\n",
    "def exp_map():\n",
    "    fig = px.choropleth(exp_df, locations='Country', locationmode='country names',\n",
    "                    color='Life expectancy', color_continuous_scale='Viridis',\n",
    "                    title='Life Expectancy by Country',\n",
    "                    labels={'Life Expectancy': 'Life Expectancy'})\n",
    "    fig.show()"
   ]
  },
  {
   "cell_type": "code",
   "execution_count": 69,
   "metadata": {},
   "outputs": [],
   "source": [
    "#boldogság\n",
    "happy_csv = happy_csv[['Country', 'Happiness Score']]\n",
    "happy_csv.sort_values(by = 'Country', inplace=True)\n",
    "happy_csv.reset_index(drop=True, inplace=True)\n",
    "\n",
    "def happy_map():\n",
    "    fig = px.choropleth(happy_csv, locations='Country', locationmode='country names',\n",
    "                    color='Happiness Score', color_continuous_scale='Viridis',\n",
    "                    title='Happiness Score by Country',\n",
    "                    labels={'Happiness Score': 'Happiness Score'})\n",
    "    fig.show()"
   ]
  },
  {
   "cell_type": "code",
   "execution_count": 70,
   "metadata": {},
   "outputs": [],
   "source": [
    "#r_squared\n",
    "def r_map():\n",
    "    fig = px.choropleth(r_df, locations='Country', locationmode='country names',\n",
    "                        color='R_squared', color_continuous_scale='Viridis',\n",
    "                        title='R^2 Score for Growth Trend by Country',\n",
    "                        labels={'Growth Trend R Square Value': 'R_squared'})\n",
    "    fig.show()"
   ]
  },
  {
   "cell_type": "code",
   "execution_count": 73,
   "metadata": {},
   "outputs": [],
   "source": [
    "#egy főre jutó reál gdp\n",
    "def real_map():\n",
    "    fig = px.choropleth(real_per_cap_df, locations='Country', locationmode='country names',\n",
    "                        color='Gdp_per_cap', color_continuous_scale='Viridis',\n",
    "                        title='GDP per Capita by Country in USD',\n",
    "                        labels={'GDP per Capita': 'Gdp_per_cap'})\n",
    "    fig.show()"
   ]
  },
  {
   "cell_type": "code",
   "execution_count": 74,
   "metadata": {},
   "outputs": [],
   "source": [
    "#növekedési trend\n",
    "def real_map():\n",
    "    fig = px.choropleth(growth_trend, locations='Country', locationmode='country names',\n",
    "                        color='Growth', color_continuous_scale='Viridis',\n",
    "                        title='Growth Trends by Country',\n",
    "                        labels={'Growth Trend': 'Growth'})\n",
    "    fig.show()"
   ]
  }
 ],
 "metadata": {
  "kernelspec": {
   "display_name": "base",
   "language": "python",
   "name": "python3"
  },
  "language_info": {
   "codemirror_mode": {
    "name": "ipython",
    "version": 3
   },
   "file_extension": ".py",
   "mimetype": "text/x-python",
   "name": "python",
   "nbconvert_exporter": "python",
   "pygments_lexer": "ipython3",
   "version": "3.9.12"
  }
 },
 "nbformat": 4,
 "nbformat_minor": 2
}
